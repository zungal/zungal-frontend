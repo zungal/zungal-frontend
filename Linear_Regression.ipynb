{
 "cells": [
  {
   "cell_type": "code",
   "execution_count": 3,
   "id": "b117d37e",
   "metadata": {},
   "outputs": [],
   "source": [
    "# Step 1: Import Packages and classes\n",
    "import sqlite3\n",
    "import pandas as pd\n",
    "import numpy as np\n",
    "from sklearn.linear_model import LinearRegression\n",
    "import matplotlib.pyplot as plt\n",
    "from matplotlib import style\n",
    "%matplotlib inline\n",
    "\n"
   ]
  },
  {
   "cell_type": "code",
   "execution_count": 27,
   "id": "61fc36dd",
   "metadata": {},
   "outputs": [
    {
     "name": "stdout",
     "output_type": "stream",
     "text": [
      "            date    log_rv\n",
      "0     2003-01-07 -0.195388\n",
      "1     2003-01-08 -0.779210\n",
      "2     2003-01-09 -0.196713\n",
      "3     2003-01-10  0.067592\n",
      "4     2003-01-13 -0.838226\n",
      "...          ...       ...\n",
      "4694  2021-08-16 -0.271400\n",
      "4695  2021-08-17 -0.413196\n",
      "4696  2021-08-18 -0.151205\n",
      "4697  2021-08-19 -0.295768\n",
      "4698  2021-08-20 -0.661106\n",
      "\n",
      "[4699 rows x 2 columns]\n"
     ]
    }
   ],
   "source": [
    "# Step 2:\n",
    "# Provide data from the tables\n",
    "\n",
    "con = sqlite3.connect('cba_log_rv .sqlite')\n",
    "\n",
    "# log_rv Table: log realised variance (RV) of CBA\n",
    "# This is the dependent variable\n",
    "rv_data = pd.read_sql_query('SELECT * FROM log_rv',con)\n",
    "print(rv_data)"
   ]
  },
  {
   "cell_type": "code",
   "execution_count": 25,
   "id": "2a30a566",
   "metadata": {},
   "outputs": [
    {
     "name": "stdout",
     "output_type": "stream",
     "text": [
      "            date  log_rv_lag1  log_rv_avg5  log_rv_avg22  log_rv_avg253  \\\n",
      "0     2003-01-07    -0.741694    -0.449644     -0.515572      -0.367086   \n",
      "1     2003-01-08    -0.195388    -0.545231     -0.521978      -0.365305   \n",
      "2     2003-01-09    -0.779210    -0.463997     -0.551932      -0.365947   \n",
      "3     2003-01-10    -0.196713    -0.436124     -0.567596      -0.363599   \n",
      "4     2003-01-13     0.067592    -0.369083     -0.543945      -0.359683   \n",
      "...          ...          ...          ...           ...            ...   \n",
      "4694  2021-08-16     0.017612    -0.159335     -0.630536      -0.297995   \n",
      "4695  2021-08-17    -0.271400    -0.149591     -0.598307      -0.299752   \n",
      "4696  2021-08-18    -0.413196    -0.058005     -0.583753      -0.300944   \n",
      "4697  2021-08-19    -0.151205    -0.162366     -0.578148      -0.302293   \n",
      "4698  2021-08-20    -0.295768    -0.222792     -0.581853      -0.304542   \n",
      "\n",
      "      log_rv_up  \n",
      "0             0  \n",
      "1             0  \n",
      "2             0  \n",
      "3             0  \n",
      "4             0  \n",
      "...         ...  \n",
      "4694          0  \n",
      "4695          0  \n",
      "4696          0  \n",
      "4697          0  \n",
      "4698          0  \n",
      "\n",
      "[4699 rows x 6 columns]\n"
     ]
    }
   ],
   "source": [
    "# log_rv feature: log RV based features\n",
    "f_data = pd.read_sql_query('SELECT * FROM log_rv_feature', con)\n",
    "print(f_data)"
   ]
  },
  {
   "cell_type": "code",
   "execution_count": 24,
   "id": "a958259a",
   "metadata": {},
   "outputs": [
    {
     "name": "stdout",
     "output_type": "stream",
     "text": [
      "            date  rng_lag1  rng_avg5  rng_avg22  rng_avg253  rng_up\n",
      "0     2003-01-07  0.323813  0.607873   0.553536    0.703900       0\n",
      "1     2003-01-08  0.685980  0.524683   0.544489    0.705035       0\n",
      "2     2003-01-09  0.398439  0.523289   0.535820    0.704763       0\n",
      "3     2003-01-10  0.795818  0.557333   0.537353    0.705806       0\n",
      "4     2003-01-13  0.614600  0.563730   0.537039    0.706781       0\n",
      "...          ...       ...       ...        ...         ...     ...\n",
      "4694  2021-08-16  0.755281  0.755477   0.545684    0.663862       0\n",
      "4695  2021-08-17  0.788250  0.744859   0.556607    0.663746       0\n",
      "4696  2021-08-18  0.633679  0.782351   0.563163    0.664030       0\n",
      "4697  2021-08-19  0.659298  0.684340   0.565064    0.662888       0\n",
      "4698  2021-08-20  0.788937  0.725089   0.574249    0.662476       0\n",
      "\n",
      "[4699 rows x 6 columns]\n"
     ]
    }
   ],
   "source": [
    "# rng_feature: Range based features\n",
    "rng_data = pd.read_sql_query('SELECT * FROM rng_feature', con)\n",
    "print(rng_data)"
   ]
  },
  {
   "cell_type": "code",
   "execution_count": 26,
   "id": "b8a2870c",
   "metadata": {},
   "outputs": [
    {
     "name": "stdout",
     "output_type": "stream",
     "text": [
      "            date  qtl_rng_lag1  qtl_rng_avg5  qtl_rng_avg22  qtl_rng_avg253  \\\n",
      "0     2003-01-07      0.269568      0.320090       0.304471        0.309980   \n",
      "1     2003-01-08      0.361912      0.321091       0.307479        0.310409   \n",
      "2     2003-01-09      0.271133      0.320783       0.303049        0.310296   \n",
      "3     2003-01-10      0.286407      0.311396       0.297146        0.310441   \n",
      "4     2003-01-13      0.434706      0.324745       0.304952        0.311234   \n",
      "...          ...           ...           ...            ...             ...   \n",
      "4694  2021-08-16      0.341765      0.312585       0.261822        0.312503   \n",
      "4695  2021-08-17      0.262366      0.311847       0.265213        0.312003   \n",
      "4696  2021-08-18      0.314158      0.332025       0.268340        0.311909   \n",
      "4697  2021-08-19      0.339382      0.330446       0.268275        0.311960   \n",
      "4698  2021-08-20      0.281104      0.307755       0.267951        0.311475   \n",
      "\n",
      "      qtl_rng_up  \n",
      "0              0  \n",
      "1              0  \n",
      "2              0  \n",
      "3              0  \n",
      "4              0  \n",
      "...          ...  \n",
      "4694           0  \n",
      "4695           0  \n",
      "4696           0  \n",
      "4697           0  \n",
      "4698           0  \n",
      "\n",
      "[4699 rows x 6 columns]\n"
     ]
    }
   ],
   "source": [
    "# qtl_rng_feature: Quantile range based features\n",
    "qtl_data = pd.read_sql_query('SELECT * FROM qtl_rng_feature', con)\n",
    "print(qtl_data)"
   ]
  },
  {
   "cell_type": "code",
   "execution_count": 34,
   "id": "bf808daa",
   "metadata": {},
   "outputs": [
    {
     "name": "stdout",
     "output_type": "stream",
     "text": [
      "            date  qtl_rng_lag1  qtl_rng_avg5  qtl_rng_avg22  qtl_rng_avg253  \\\n",
      "0     2003-01-07      0.269568      0.320090       0.304471        0.309980   \n",
      "1     2003-01-08      0.361912      0.321091       0.307479        0.310409   \n",
      "2     2003-01-09      0.271133      0.320783       0.303049        0.310296   \n",
      "3     2003-01-10      0.286407      0.311396       0.297146        0.310441   \n",
      "4     2003-01-13      0.434706      0.324745       0.304952        0.311234   \n",
      "...          ...           ...           ...            ...             ...   \n",
      "4694  2021-08-16      0.341765      0.312585       0.261822        0.312503   \n",
      "4695  2021-08-17      0.262366      0.311847       0.265213        0.312003   \n",
      "4696  2021-08-18      0.314158      0.332025       0.268340        0.311909   \n",
      "4697  2021-08-19      0.339382      0.330446       0.268275        0.311960   \n",
      "4698  2021-08-20      0.281104      0.307755       0.267951        0.311475   \n",
      "\n",
      "      qtl_rng_up  log_rv_lag1  log_rv_avg5  log_rv_avg22  log_rv_avg253  \\\n",
      "0              0    -0.741694    -0.449644     -0.515572      -0.367086   \n",
      "1              0    -0.195388    -0.545231     -0.521978      -0.365305   \n",
      "2              0    -0.779210    -0.463997     -0.551932      -0.365947   \n",
      "3              0    -0.196713    -0.436124     -0.567596      -0.363599   \n",
      "4              0     0.067592    -0.369083     -0.543945      -0.359683   \n",
      "...          ...          ...          ...           ...            ...   \n",
      "4694           0     0.017612    -0.159335     -0.630536      -0.297995   \n",
      "4695           0    -0.271400    -0.149591     -0.598307      -0.299752   \n",
      "4696           0    -0.413196    -0.058005     -0.583753      -0.300944   \n",
      "4697           0    -0.151205    -0.162366     -0.578148      -0.302293   \n",
      "4698           0    -0.295768    -0.222792     -0.581853      -0.304542   \n",
      "\n",
      "      log_rv_up  \n",
      "0             0  \n",
      "1             0  \n",
      "2             0  \n",
      "3             0  \n",
      "4             0  \n",
      "...         ...  \n",
      "4694          0  \n",
      "4695          0  \n",
      "4696          0  \n",
      "4697          0  \n",
      "4698          0  \n",
      "\n",
      "[4699 rows x 11 columns]\n"
     ]
    }
   ],
   "source": [
    "# Lets join the qtl_rng_feature & log_rv_feature & rng_data\n",
    "\n",
    "join_data0 = pd.merge(qtl_data, f_data, on='date') \n",
    "print(join_data0)"
   ]
  },
  {
   "cell_type": "code",
   "execution_count": 39,
   "id": "44529ea6",
   "metadata": {},
   "outputs": [
    {
     "name": "stdout",
     "output_type": "stream",
     "text": [
      "            date    log_rv  qtl_rng_lag1  qtl_rng_avg5  qtl_rng_avg22  \\\n",
      "0     2003-01-07 -0.195388      0.269568      0.320090       0.304471   \n",
      "1     2003-01-08 -0.779210      0.361912      0.321091       0.307479   \n",
      "2     2003-01-09 -0.196713      0.271133      0.320783       0.303049   \n",
      "3     2003-01-10  0.067592      0.286407      0.311396       0.297146   \n",
      "4     2003-01-13 -0.838226      0.434706      0.324745       0.304952   \n",
      "...          ...       ...           ...           ...            ...   \n",
      "4694  2021-08-16 -0.271400      0.341765      0.312585       0.261822   \n",
      "4695  2021-08-17 -0.413196      0.262366      0.311847       0.265213   \n",
      "4696  2021-08-18 -0.151205      0.314158      0.332025       0.268340   \n",
      "4697  2021-08-19 -0.295768      0.339382      0.330446       0.268275   \n",
      "4698  2021-08-20 -0.661106      0.281104      0.307755       0.267951   \n",
      "\n",
      "      qtl_rng_avg253  qtl_rng_up  log_rv_lag1  log_rv_avg5  log_rv_avg22  \\\n",
      "0           0.309980           0    -0.741694    -0.449644     -0.515572   \n",
      "1           0.310409           0    -0.195388    -0.545231     -0.521978   \n",
      "2           0.310296           0    -0.779210    -0.463997     -0.551932   \n",
      "3           0.310441           0    -0.196713    -0.436124     -0.567596   \n",
      "4           0.311234           0     0.067592    -0.369083     -0.543945   \n",
      "...              ...         ...          ...          ...           ...   \n",
      "4694        0.312503           0     0.017612    -0.159335     -0.630536   \n",
      "4695        0.312003           0    -0.271400    -0.149591     -0.598307   \n",
      "4696        0.311909           0    -0.413196    -0.058005     -0.583753   \n",
      "4697        0.311960           0    -0.151205    -0.162366     -0.578148   \n",
      "4698        0.311475           0    -0.295768    -0.222792     -0.581853   \n",
      "\n",
      "      log_rv_avg253  log_rv_up  \n",
      "0         -0.367086          0  \n",
      "1         -0.365305          0  \n",
      "2         -0.365947          0  \n",
      "3         -0.363599          0  \n",
      "4         -0.359683          0  \n",
      "...             ...        ...  \n",
      "4694      -0.297995          0  \n",
      "4695      -0.299752          0  \n",
      "4696      -0.300944          0  \n",
      "4697      -0.302293          0  \n",
      "4698      -0.304542          0  \n",
      "\n",
      "[4699 rows x 12 columns]\n"
     ]
    }
   ],
   "source": [
    "# joining the join_data0 to log_rv\n",
    "\n",
    "join_data1 = pd.merge(rv_data, join_data0, on='date')\n",
    "print(join_data1)"
   ]
  },
  {
   "cell_type": "code",
   "execution_count": 41,
   "id": "225de235",
   "metadata": {},
   "outputs": [
    {
     "name": "stdout",
     "output_type": "stream",
     "text": [
      "        log_rv  qtl_rng_lag1  qtl_rng_avg5  qtl_rng_avg22  qtl_rng_avg253  \\\n",
      "0    -0.195388      0.269568      0.320090       0.304471        0.309980   \n",
      "1    -0.779210      0.361912      0.321091       0.307479        0.310409   \n",
      "2    -0.196713      0.271133      0.320783       0.303049        0.310296   \n",
      "3     0.067592      0.286407      0.311396       0.297146        0.310441   \n",
      "4    -0.838226      0.434706      0.324745       0.304952        0.311234   \n",
      "...        ...           ...           ...            ...             ...   \n",
      "4694 -0.271400      0.341765      0.312585       0.261822        0.312503   \n",
      "4695 -0.413196      0.262366      0.311847       0.265213        0.312003   \n",
      "4696 -0.151205      0.314158      0.332025       0.268340        0.311909   \n",
      "4697 -0.295768      0.339382      0.330446       0.268275        0.311960   \n",
      "4698 -0.661106      0.281104      0.307755       0.267951        0.311475   \n",
      "\n",
      "      qtl_rng_up  log_rv_lag1  log_rv_avg5  log_rv_avg22  log_rv_avg253  \\\n",
      "0              0    -0.741694    -0.449644     -0.515572      -0.367086   \n",
      "1              0    -0.195388    -0.545231     -0.521978      -0.365305   \n",
      "2              0    -0.779210    -0.463997     -0.551932      -0.365947   \n",
      "3              0    -0.196713    -0.436124     -0.567596      -0.363599   \n",
      "4              0     0.067592    -0.369083     -0.543945      -0.359683   \n",
      "...          ...          ...          ...           ...            ...   \n",
      "4694           0     0.017612    -0.159335     -0.630536      -0.297995   \n",
      "4695           0    -0.271400    -0.149591     -0.598307      -0.299752   \n",
      "4696           0    -0.413196    -0.058005     -0.583753      -0.300944   \n",
      "4697           0    -0.151205    -0.162366     -0.578148      -0.302293   \n",
      "4698           0    -0.295768    -0.222792     -0.581853      -0.304542   \n",
      "\n",
      "      log_rv_up  \n",
      "0             0  \n",
      "1             0  \n",
      "2             0  \n",
      "3             0  \n",
      "4             0  \n",
      "...         ...  \n",
      "4694          0  \n",
      "4695          0  \n",
      "4696          0  \n",
      "4697          0  \n",
      "4698          0  \n",
      "\n",
      "[4699 rows x 11 columns]\n"
     ]
    }
   ],
   "source": [
    "# Remove date\n",
    "\n",
    "f = join_data1.drop(['date'], axis=1)\n",
    "print(f)"
   ]
  },
  {
   "cell_type": "code",
   "execution_count": 42,
   "id": "454e3f74",
   "metadata": {},
   "outputs": [
    {
     "data": {
      "text/html": [
       "<div>\n",
       "<style scoped>\n",
       "    .dataframe tbody tr th:only-of-type {\n",
       "        vertical-align: middle;\n",
       "    }\n",
       "\n",
       "    .dataframe tbody tr th {\n",
       "        vertical-align: top;\n",
       "    }\n",
       "\n",
       "    .dataframe thead th {\n",
       "        text-align: right;\n",
       "    }\n",
       "</style>\n",
       "<table border=\"1\" class=\"dataframe\">\n",
       "  <thead>\n",
       "    <tr style=\"text-align: right;\">\n",
       "      <th></th>\n",
       "      <th>variable_1</th>\n",
       "      <th>variable_2</th>\n",
       "      <th>r</th>\n",
       "      <th>abs_r</th>\n",
       "    </tr>\n",
       "  </thead>\n",
       "  <tbody>\n",
       "    <tr>\n",
       "      <th>103</th>\n",
       "      <td>log_rv_avg253</td>\n",
       "      <td>qtl_rng_avg253</td>\n",
       "      <td>0.981233</td>\n",
       "      <td>0.981233</td>\n",
       "    </tr>\n",
       "    <tr>\n",
       "      <th>53</th>\n",
       "      <td>qtl_rng_avg253</td>\n",
       "      <td>log_rv_avg253</td>\n",
       "      <td>0.981233</td>\n",
       "      <td>0.981233</td>\n",
       "    </tr>\n",
       "    <tr>\n",
       "      <th>41</th>\n",
       "      <td>qtl_rng_avg22</td>\n",
       "      <td>log_rv_avg22</td>\n",
       "      <td>0.946594</td>\n",
       "      <td>0.946594</td>\n",
       "    </tr>\n",
       "    <tr>\n",
       "      <th>91</th>\n",
       "      <td>log_rv_avg22</td>\n",
       "      <td>qtl_rng_avg22</td>\n",
       "      <td>0.946594</td>\n",
       "      <td>0.946594</td>\n",
       "    </tr>\n",
       "    <tr>\n",
       "      <th>29</th>\n",
       "      <td>qtl_rng_avg5</td>\n",
       "      <td>log_rv_avg5</td>\n",
       "      <td>0.920140</td>\n",
       "      <td>0.920140</td>\n",
       "    </tr>\n",
       "    <tr>\n",
       "      <th>79</th>\n",
       "      <td>log_rv_avg5</td>\n",
       "      <td>qtl_rng_avg5</td>\n",
       "      <td>0.920140</td>\n",
       "      <td>0.920140</td>\n",
       "    </tr>\n",
       "    <tr>\n",
       "      <th>13</th>\n",
       "      <td>qtl_rng_lag1</td>\n",
       "      <td>qtl_rng_avg5</td>\n",
       "      <td>0.893746</td>\n",
       "      <td>0.893746</td>\n",
       "    </tr>\n",
       "    <tr>\n",
       "      <th>23</th>\n",
       "      <td>qtl_rng_avg5</td>\n",
       "      <td>qtl_rng_lag1</td>\n",
       "      <td>0.893746</td>\n",
       "      <td>0.893746</td>\n",
       "    </tr>\n",
       "    <tr>\n",
       "      <th>95</th>\n",
       "      <td>log_rv_avg22</td>\n",
       "      <td>log_rv_avg5</td>\n",
       "      <td>0.893307</td>\n",
       "      <td>0.893307</td>\n",
       "    </tr>\n",
       "    <tr>\n",
       "      <th>85</th>\n",
       "      <td>log_rv_avg5</td>\n",
       "      <td>log_rv_avg22</td>\n",
       "      <td>0.893307</td>\n",
       "      <td>0.893307</td>\n",
       "    </tr>\n",
       "  </tbody>\n",
       "</table>\n",
       "</div>"
      ],
      "text/plain": [
       "         variable_1      variable_2         r     abs_r\n",
       "103   log_rv_avg253  qtl_rng_avg253  0.981233  0.981233\n",
       "53   qtl_rng_avg253   log_rv_avg253  0.981233  0.981233\n",
       "41    qtl_rng_avg22    log_rv_avg22  0.946594  0.946594\n",
       "91     log_rv_avg22   qtl_rng_avg22  0.946594  0.946594\n",
       "29     qtl_rng_avg5     log_rv_avg5  0.920140  0.920140\n",
       "79      log_rv_avg5    qtl_rng_avg5  0.920140  0.920140\n",
       "13     qtl_rng_lag1    qtl_rng_avg5  0.893746  0.893746\n",
       "23     qtl_rng_avg5    qtl_rng_lag1  0.893746  0.893746\n",
       "95     log_rv_avg22     log_rv_avg5  0.893307  0.893307\n",
       "85      log_rv_avg5    log_rv_avg22  0.893307  0.893307"
      ]
     },
     "execution_count": 42,
     "metadata": {},
     "output_type": "execute_result"
    }
   ],
   "source": [
    "# Step 3: \n",
    "# Relationship between variables\n",
    "# Creating models and fit\n",
    "\n",
    "\n",
    "def clean_data(nodes):\n",
    "    nodes = nodes.stack().reset_index()\n",
    "    nodes.columns = ['variable_1','variable_2','r']\n",
    "    nodes = nodes.loc[nodes['variable_1'] != nodes['variable_2'],:]\n",
    "    nodes['abs_r'] = np.abs(nodes['r'])\n",
    "    nodes = nodes.sort_values('abs_r', ascending = False)\n",
    "    return(nodes)\n",
    "\n",
    "nodes = f.select_dtypes(include=['float64','int']).corr(method='pearson')\n",
    "clean_data(nodes).head(10)\n"
   ]
  },
  {
   "cell_type": "code",
   "execution_count": 106,
   "id": "9f2850ce",
   "metadata": {},
   "outputs": [],
   "source": [
    "x = f[['log_rv_lag1','log_rv_avg5','log_rv_avg22','log_rv_avg253']]\n",
    "y = f['log_rv']\n",
    "\n",
    "model = LinearRegression().fit(x,y)\n",
    "\n"
   ]
  },
  {
   "cell_type": "code",
   "execution_count": 107,
   "id": "59e70376",
   "metadata": {},
   "outputs": [
    {
     "name": "stdout",
     "output_type": "stream",
     "text": [
      "coefficient of determination: 0.6061669518002699\n",
      "intercept: -0.012652404429932207\n",
      "slope: [0.2497617  0.4176194  0.23483427 0.05839917]\n"
     ]
    }
   ],
   "source": [
    "# Step 4:\n",
    "# Get results\n",
    "\n",
    "result = model.score(x, y)# obtaining R squared\n",
    "print('coefficient of determination:', result)\n",
    "print('intercept:', model.intercept_)\n",
    "print('slope:', model.coef_)"
   ]
  },
  {
   "cell_type": "code",
   "execution_count": 108,
   "id": "9c03553d",
   "metadata": {},
   "outputs": [
    {
     "name": "stdout",
     "output_type": "stream",
     "text": [
      "predicted response:\n",
      "0      -0.528191\n",
      "1      -0.433064\n",
      "2      -0.552027\n",
      "3      -0.398443\n",
      "4      -0.298649\n",
      "          ...   \n",
      "4694   -0.240269\n",
      "4695   -0.300918\n",
      "4696   -0.294737\n",
      "4697   -0.271648\n",
      "4698   -0.333990\n",
      "Length: 4699, dtype: float64\n"
     ]
    }
   ],
   "source": [
    "# Step 5:\n",
    "# Predict Response\n",
    "pred = model.intercept_ + np.sum(model0.coef_ * x, axis=1)\n",
    "\n",
    "print('predicted response:', pred, sep='\\n')\n"
   ]
  },
  {
   "cell_type": "code",
   "execution_count": null,
   "id": "a72f65b7",
   "metadata": {},
   "outputs": [],
   "source": []
  },
  {
   "cell_type": "code",
   "execution_count": null,
   "id": "d9d9b97a",
   "metadata": {},
   "outputs": [],
   "source": []
  },
  {
   "cell_type": "code",
   "execution_count": null,
   "id": "53026ff2",
   "metadata": {},
   "outputs": [],
   "source": []
  }
 ],
 "metadata": {
  "kernelspec": {
   "display_name": "Python 3 (ipykernel)",
   "language": "python",
   "name": "python3"
  },
  "language_info": {
   "codemirror_mode": {
    "name": "ipython",
    "version": 3
   },
   "file_extension": ".py",
   "mimetype": "text/x-python",
   "name": "python",
   "nbconvert_exporter": "python",
   "pygments_lexer": "ipython3",
   "version": "3.9.7"
  }
 },
 "nbformat": 4,
 "nbformat_minor": 5
}
